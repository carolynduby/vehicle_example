{
 "cells": [
  {
   "cell_type": "code",
   "execution_count": 6,
   "metadata": {},
   "outputs": [
    {
     "name": "stdout",
     "output_type": "stream",
     "text": [
      "+--------------------+----+-------------+---------+------+-----------+------------+------------+----------+-------+----------+--------------------+-----+\n",
      "|                name|year|selling_price|km_driven|  fuel|seller_type|transmission|       owner|   mileage| engine| max_power|              torque|seats|\n",
      "+--------------------+----+-------------+---------+------+-----------+------------+------------+----------+-------+----------+--------------------+-----+\n",
      "|Maruti Swift Dzir...|2014|       450000|   145500|Diesel| Individual|      Manual| First Owner| 23.4 kmpl|1248 CC|    74 bhp|      190Nm@ 2000rpm|    5|\n",
      "|Skoda Rapid 1.5 T...|2014|       370000|   120000|Diesel| Individual|      Manual|Second Owner|21.14 kmpl|1498 CC|103.52 bhp| 250Nm@ 1500-2500rpm|    5|\n",
      "|Honda City 2017-2...|2006|       158000|   140000|Petrol| Individual|      Manual| Third Owner| 17.7 kmpl|1497 CC|    78 bhp|12.7@ 2,700(kgm@ ...|    5|\n",
      "|Hyundai i20 Sport...|2010|       225000|   127000|Diesel| Individual|      Manual| First Owner| 23.0 kmpl|1396 CC|    90 bhp|22.4 kgm at 1750-...|    5|\n",
      "|Maruti Swift VXI ...|2007|       130000|   120000|Petrol| Individual|      Manual| First Owner| 16.1 kmpl|1298 CC|  88.2 bhp|11.5@ 4,500(kgm@ ...|    5|\n",
      "|Hyundai Xcent 1.2...|2017|       440000|    45000|Petrol| Individual|      Manual| First Owner|20.14 kmpl|1197 CC| 81.86 bhp|   113.75nm@ 4000rpm|    5|\n",
      "|Maruti Wagon R LX...|2007|        96000|   175000|   LPG| Individual|      Manual| First Owner|17.3 km/kg|1061 CC|  57.5 bhp|7.8@ 4,500(kgm@ rpm)|    5|\n",
      "|  Maruti 800 DX BSII|2001|        45000|     5000|Petrol| Individual|      Manual|Second Owner| 16.1 kmpl| 796 CC|    37 bhp|       59Nm@ 2500rpm|    4|\n",
      "|    Toyota Etios VXD|2011|       350000|    90000|Diesel| Individual|      Manual| First Owner|23.59 kmpl|1364 CC|  67.1 bhp| 170Nm@ 1800-2400rpm|    5|\n",
      "|Ford Figo Diesel ...|2013|       200000|   169000|Diesel| Individual|      Manual| First Owner| 20.0 kmpl|1399 CC|  68.1 bhp|      160Nm@ 2000rpm|    5|\n",
      "|Renault Duster 11...|2014|       500000|    68000|Diesel| Individual|      Manual|Second Owner|19.01 kmpl|1461 CC|108.45 bhp|      248Nm@ 2250rpm|    5|\n",
      "|       Maruti Zen LX|2005|        92000|   100000|Petrol| Individual|      Manual|Second Owner| 17.3 kmpl| 993 CC|    60 bhp|       78Nm@ 4500rpm|    5|\n",
      "|Maruti Swift Dzir...|2009|       280000|   140000|Diesel| Individual|      Manual|Second Owner| 19.3 kmpl|1248 CC|  73.9 bhp|      190Nm@ 2000rpm|    5|\n",
      "|Maruti Swift 1.3 VXi|2007|       200000|    80000|Petrol| Individual|      Manual|Second Owner|      null|   null|      null|                null| null|\n",
      "|Maruti Wagon R LX...|2009|       180000|    90000|Petrol| Individual|      Manual|Second Owner| 18.9 kmpl|1061 CC|    67 bhp|       84Nm@ 3500rpm|    5|\n",
      "|Mahindra KUV 100 ...|2016|       400000|    40000|Petrol| Individual|      Manual| First Owner|18.15 kmpl|1198 CC|    82 bhp| 115Nm@ 3500-3600rpm|    5|\n",
      "|Maruti Ertiga SHV...|2016|       778000|    70000|Diesel| Individual|      Manual|Second Owner|24.52 kmpl|1248 CC|  88.5 bhp|      200Nm@ 1750rpm|    7|\n",
      "|Hyundai i20 1.4 C...|2012|       500000|    53000|Diesel| Individual|      Manual|Second Owner| 23.0 kmpl|1396 CC|    90 bhp|22.4 kgm at 1750-...|    5|\n",
      "|      Maruti Alto LX|2002|       150000|    80000|Petrol| Individual|      Manual|Second Owner| 19.7 kmpl| 796 CC|  46.3 bhp|       62Nm@ 3000rpm|    5|\n",
      "|Hyundai i20 2015-...|2016|       680000|   100000|Diesel| Individual|      Manual| First Owner|22.54 kmpl|1396 CC| 88.73 bhp|219.7Nm@ 1500-275...|    5|\n",
      "+--------------------+----+-------------+---------+------+-----------+------------+------------+----------+-------+----------+--------------------+-----+\n",
      "only showing top 20 rows\n",
      "\n"
     ]
    }
   ],
   "source": [
    "from pyspark.sql import SparkSession\n",
    "from pyspark.ml.feature import VectorAssembler\n",
    "from pyspark.ml.regression import LinearRegression\n",
    "from  pyspark.sql.functions import abs\n",
    "\n",
    "spark = SparkSession\\\n",
    "    .builder\\\n",
    "    .appName(\"PythonExample\")\\\n",
    "    .getOrCreate()\n",
    "\n",
    "# read the vehicle data\n",
    "hive_df = spark.sql(\"select * from automotive.vehicles\")\n",
    "hive_df.show()\n",
    "\n",
    "features = hive_df.select(\"year\", \"km_driven\")\n",
    "\n",
    "\n"
   ]
  },
  {
   "cell_type": "code",
   "execution_count": 7,
   "metadata": {},
   "outputs": [
    {
     "name": "stdout",
     "output_type": "stream",
     "text": [
      "+-----------------+-------------+\n",
      "|         features|selling_price|\n",
      "+-----------------+-------------+\n",
      "|[2014.0,145500.0]|       450000|\n",
      "|[2014.0,120000.0]|       370000|\n",
      "|[2006.0,140000.0]|       158000|\n",
      "|[2010.0,127000.0]|       225000|\n",
      "|[2007.0,120000.0]|       130000|\n",
      "| [2017.0,45000.0]|       440000|\n",
      "|[2007.0,175000.0]|        96000|\n",
      "|  [2001.0,5000.0]|        45000|\n",
      "| [2011.0,90000.0]|       350000|\n",
      "|[2013.0,169000.0]|       200000|\n",
      "| [2014.0,68000.0]|       500000|\n",
      "|[2005.0,100000.0]|        92000|\n",
      "|[2009.0,140000.0]|       280000|\n",
      "| [2007.0,80000.0]|       200000|\n",
      "| [2009.0,90000.0]|       180000|\n",
      "| [2016.0,40000.0]|       400000|\n",
      "| [2016.0,70000.0]|       778000|\n",
      "| [2012.0,53000.0]|       500000|\n",
      "| [2002.0,80000.0]|       150000|\n",
      "|[2016.0,100000.0]|       680000|\n",
      "+-----------------+-------------+\n",
      "only showing top 20 rows\n",
      "\n"
     ]
    }
   ],
   "source": [
    "# extract features\n",
    "assembler = VectorAssembler(\n",
    "    inputCols=features.columns,\n",
    "    outputCol=\"features\")\n",
    "\n",
    "output = assembler.transform(hive_df).select('features','selling_price')\n",
    "output.show()\n",
    "\n"
   ]
  },
  {
   "cell_type": "code",
   "execution_count": 8,
   "metadata": {},
   "outputs": [
    {
     "name": "stdout",
     "output_type": "stream",
     "text": [
      "Coefficients: [77853.80321750963,-0.8838653304614231]\n",
      "\n",
      "Intercept: -156080851.5431577\n",
      "RMSE: 731195.986737\n",
      "\n",
      "r2: 0.175157\n"
     ]
    }
   ],
   "source": [
    "# split\n",
    "train,test = output.randomSplit([0.75, 0.25])\n",
    "\n",
    "# train\n",
    "lin_reg = LinearRegression(featuresCol = 'features', labelCol='selling_price')\n",
    "linear_model = lin_reg.fit(train)\n",
    "print(\"Coefficients: \" + str(linear_model.coefficients))\n",
    "print(\"\\nIntercept: \" + str(linear_model.intercept))\n",
    "\n",
    "trainSummary = linear_model.summary\n",
    "\n",
    "print(\"RMSE: %f\" % trainSummary.rootMeanSquaredError)\n",
    "print(\"\\nr2: %f\" % trainSummary.r2)\n",
    "\n"
   ]
  },
  {
   "cell_type": "code",
   "execution_count": 5,
   "metadata": {},
   "outputs": [
    {
     "name": "stdout",
     "output_type": "stream",
     "text": [
      "+-------------------+-------------+------------------+-----------------+\n",
      "|         prediction|selling_price|          Accuracy|         features|\n",
      "+-------------------+-------------+------------------+-----------------+\n",
      "| -875608.6070124805|        99000|  984.453138396445|[1994.0,100000.0]|\n",
      "| -765469.8746379614|        55000|1491.7634084326571| [1995.0,70000.0]|\n",
      "| -645803.1679921746|        40000|1714.5079199804363| [1996.0,32000.0]|\n",
      "| -604742.2490843832|        50000|1309.4844981687665| [1997.0,60000.0]|\n",
      "| -664292.0882798135|        57000|1265.4247162803745|[1997.0,110000.0]|\n",
      "|-506513.48454892635|        35000| 1547.181384425504| [1998.0,40000.0]|\n",
      "| -542243.3880662024|        40000|1455.6084701655059| [1998.0,70000.0]|\n",
      "| -554153.3559052646|        45000| 1331.451902011699| [1998.0,80000.0]|\n",
      "| -444014.6235307753|        40000|1210.0365588269383| [1999.0,50000.0]|\n",
      "| -455924.5913698673|        55000| 928.9538024906678| [1999.0,60000.0]|\n",
      "|-369605.79467353225|        45000| 921.3462103856273| [2000.0,50000.0]|\n",
      "|-369605.79467353225|       140000|364.00413905252304| [2000.0,50000.0]|\n",
      "| -429155.6338689625|       200000| 314.5778169344813|[2000.0,100000.0]|\n",
      "|-247557.09445992112|        30000| 925.1903148664038| [2001.0,10000.0]|\n",
      "| -320207.8982783258|        60000| 633.6798304638763| [2001.0,71000.0]|\n",
      "|-256518.04047626257|        40000| 741.2951011906564| [2002.0,80000.0]|\n",
      "|-256518.04047626257|        65000| 494.6431391942501| [2002.0,80000.0]|\n",
      "| -268428.0083153546|        95000|382.55579822668903| [2002.0,90000.0]|\n",
      "|-304157.91183263063|        55000| 653.0143851502376|[2002.0,120000.0]|\n",
      "| -352988.7799728811|        81000| 535.7886172504705|[2002.0,161000.0]|\n",
      "+-------------------+-------------+------------------+-----------------+\n",
      "only showing top 20 rows\n",
      "\n"
     ]
    }
   ],
   "source": [
    "#evaluate\n",
    "\n",
    "predictions = linear_model.transform(test)\n",
    "x =((predictions['selling_price']-predictions['prediction'])/predictions['selling_price'])*100\n",
    "predictions = predictions.withColumn('Accuracy',abs(x))\n",
    "predictions.select(\"prediction\",\"selling_price\",\"Accuracy\",\"features\").show()"
   ]
  },
  {
   "cell_type": "code",
   "execution_count": null,
   "metadata": {},
   "outputs": [],
   "source": []
  }
 ],
 "metadata": {
  "kernelspec": {
   "display_name": "Python 3",
   "language": "python",
   "name": "python3"
  },
  "language_info": {
   "codemirror_mode": {
    "name": "ipython",
    "version": 3
   },
   "file_extension": ".py",
   "mimetype": "text/x-python",
   "name": "python",
   "nbconvert_exporter": "python",
   "pygments_lexer": "ipython3",
   "version": "3.6.10"
  }
 },
 "nbformat": 4,
 "nbformat_minor": 4
}
